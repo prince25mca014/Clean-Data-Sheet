{
  "metadata": {
    "kernelspec": {
      "name": "python",
      "display_name": "Python (Pyodide)",
      "language": "python"
    },
    "language_info": {
      "codemirror_mode": {
        "name": "python",
        "version": 3
      },
      "file_extension": ".py",
      "mimetype": "text/x-python",
      "name": "python",
      "nbconvert_exporter": "python",
      "pygments_lexer": "ipython3",
      "version": "3.8"
    }
  },
  "nbformat_minor": 5,
  "nbformat": 4,
  "cells": [
    {
      "id": "068faabc-508e-44c1-9a1b-ca6bc1ae4787",
      "cell_type": "code",
      "source": "import pandas as pd\ndf = pd.read_csv(\"Details.csv\")\nanalyzeOf = df.drop_duplicates()\nfinal_output = pd.DataFrame(analyzeOf.dropna())\nfinal_output.to_csv(\"Delails.csv\")",
      "metadata": {
        "trusted": true
      },
      "outputs": [],
      "execution_count": 1
    },
    {
      "id": "71845167-cd2a-43ad-b343-0ef8e7cfeda5",
      "cell_type": "code",
      "source": "",
      "metadata": {
        "trusted": true
      },
      "outputs": [],
      "execution_count": null
    }
  ]
}